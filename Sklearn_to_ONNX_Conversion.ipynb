{
  "cells": [
    {
      "cell_type": "markdown",
      "metadata": {},
      "source": [
        "# Converting scikit-learn models to ONNX for use in Android apps\n",
        "\n",
        "* ✍️ [Read the blog]()\n",
        "* 🌐 [Checkout the GitHub repo]()\n",
        "* 📁 [Download this notebook]()"
      ]
    },
    {
      "cell_type": "markdown",
      "metadata": {},
      "source": [
        "### 1️⃣ Installing `onnxruntime` and `skl2onnx`"
      ]
    },
    {
      "cell_type": "code",
      "execution_count": null,
      "metadata": {},
      "outputs": [],
      "source": [
        "!pip install onnxruntime skl2onnx"
      ]
    },
    {
      "cell_type": "markdown",
      "metadata": {},
      "source": [
        "### 2️⃣ Building the scikit-learn model"
      ]
    },
    {
      "cell_type": "code",
      "execution_count": null,
      "metadata": {
        "colab": {
          "base_uri": "https://localhost:8080/"
        },
        "id": "ByRplOElP7SH",
        "outputId": "ccf34f98-18e6-4f25-8273-623ad99174c8"
      },
      "outputs": [],
      "source": [
        "import pandas as pd\n",
        "import numpy as np\n",
        "\n",
        "data = pd.read_csv( 'score.csv' )\n",
        "data.head()"
      ]
    },
    {
      "cell_type": "code",
      "execution_count": null,
      "metadata": {
        "colab": {
          "base_uri": "https://localhost:8080/"
        },
        "id": "7zKv46hGWkiA",
        "outputId": "5cbcfe90-067a-445c-89c0-e43977aec2f4"
      },
      "outputs": [],
      "source": [
        "from sklearn.linear_model import LinearRegression\n",
        "\n",
        "X , y = data.values[ : , 0 ] , data.values[ : , 1 ]\n",
        "X = np.expand_dims( X , axis=1 )\n",
        "\n",
        "regressor = LinearRegression()\n",
        "regressor.fit( X , y )"
      ]
    },
    {
      "cell_type": "code",
      "execution_count": null,
      "metadata": {},
      "outputs": [],
      "source": [
        "print( f'Prediction for 8.5 hours is {regressor.predict([[8.5]])[0]}' )"
      ]
    },
    {
      "cell_type": "markdown",
      "metadata": {},
      "source": [
        "### 3️⃣ Conversion to `.onnx`"
      ]
    },
    {
      "cell_type": "code",
      "execution_count": null,
      "metadata": {
        "id": "iTjjh7ZaRUbT"
      },
      "outputs": [],
      "source": [
        "from skl2onnx import convert_sklearn\n",
        "from skl2onnx.common.data_types import FloatTensorType\n",
        "\n",
        "# Specify an initial type for the model ( similar to input shape for the model )\n",
        "initial_type = [ \n",
        "    ( 'input_study_hours' , FloatTensorType( [None,1] ) ) \n",
        "]\n",
        "\n",
        "# Write the ONNX model to disk\n",
        "converted_model = convert_sklearn( regressor , initial_types=initial_type )\n",
        "with open( \"sklearn_model.onnx\", \"wb\" ) as f:\n",
        "    f.write( converted_model.SerializeToString() )"
      ]
    },
    {
      "cell_type": "markdown",
      "metadata": {},
      "source": [
        "### 4️⃣ Conversion of `.onnx` to `.ort`"
      ]
    },
    {
      "cell_type": "code",
      "execution_count": null,
      "metadata": {
        "colab": {
          "base_uri": "https://localhost:8080/"
        },
        "id": "ITpIL7vcSADz",
        "outputId": "60511b99-b551-4ab0-8dd3-9ed47582f925"
      },
      "outputs": [],
      "source": [
        "!python -m onnxruntime.tools.convert_onnx_models_to_ort sklearn_model.onnx"
      ]
    }
  ],
  "metadata": {
    "colab": {
      "name": "sklearn_onnx_conversion.ipynb",
      "provenance": []
    },
    "kernelspec": {
      "display_name": "Python 3.10.4 ('python_env': venv)",
      "language": "python",
      "name": "python3"
    },
    "language_info": {
      "codemirror_mode": {
        "name": "ipython",
        "version": 3
      },
      "file_extension": ".py",
      "mimetype": "text/x-python",
      "name": "python",
      "nbconvert_exporter": "python",
      "pygments_lexer": "ipython3",
      "version": "3.10.4"
    },
    "vscode": {
      "interpreter": {
        "hash": "58dabf45e8fb85ade253df18750e963a639c23fad1337ef4663bc9fd64ba95f9"
      }
    }
  },
  "nbformat": 4,
  "nbformat_minor": 0
}
