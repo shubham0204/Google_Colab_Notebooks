{
  "nbformat": 4,
  "nbformat_minor": 0,
  "metadata": {
    "colab": {
      "name": "Face_Landmark_Detection.ipynb",
      "private_outputs": true,
      "provenance": [],
      "collapsed_sections": [],
      "toc_visible": true
    },
    "kernelspec": {
      "name": "python3",
      "display_name": "Python 3"
    },
    "accelerator": "GPU"
  },
  "cells": [
    {
      "cell_type": "markdown",
      "metadata": {
        "id": "wbkXMkrTgXiF"
      },
      "source": [
        "\n",
        "# **Face Landmark Detection With TensorFlow**\n",
        "\n",
        "[<img src=\"https://github.com/shubham0204/Privacy_Policy_Texts/blob/master/notebook_button_two.png?raw=true\" width=\"170\" height=\"50\" align=\"center\">](https://medium.com/@equipintelligence/face-landmark-detection-with-cnns-tensorflow-cf4d191d2f0)\n",
        "\n",
        "\n",
        "---\n",
        "\n",
        "In this notebook, we'll develop a model which marks 15 keypoints on a given image of a human face. We'll build a Convolutional Neural Network which takes an image and returns a array of 15 keypoints.\n",
        "\n",
        "We'll require a GPU Hardware accelerator for training the model. Change the runtime type to GPU by going to `Tools > Change Runtime Type > Hardware Accelerator > GPU`.\n",
        "\n",
        "\n"
      ]
    },
    {
      "cell_type": "markdown",
      "metadata": {
        "id": "nnpIO-lThFCl"
      },
      "source": [
        "\n",
        "## 1) Importing the Packages\n"
      ]
    },
    {
      "cell_type": "markdown",
      "metadata": {
        "id": "ctoxP_8shhPr"
      },
      "source": [
        "\n",
        "We import TensorFlow and NumPy. Other packages are imported as and when needed.\n"
      ]
    },
    {
      "cell_type": "code",
      "metadata": {
        "id": "7jso6uFH9-4m"
      },
      "source": [
        "\n",
        "import tensorflow as tf\n",
        "import numpy as np\n"
      ],
      "execution_count": null,
      "outputs": []
    },
    {
      "cell_type": "markdown",
      "metadata": {
        "id": "zSBmIS2sh310"
      },
      "source": [
        "\n",
        "## 2) Loading the Data\n",
        "\n",
        "The original data comes [Face Images with Marked Landmark Points](https://www.kaggle.com/drgilermo/face-images-with-marked-landmark-points) on [Kaggle](https://www.kaggle.com/) by [Omri Goldstein](https://www.kaggle.com/drgilermo). In this dataset, the `facial_keypoints.csv` file contains the 15 keypoints for all images.\n",
        "\n",
        "> *Certain images do not have all the 15 keypoints. So, I've cleaned the dataset and kept only those images which have all the 15 keypoints. See this [script](https://gist.github.com/shubham0204/7eb0435dc0142ce4fc560629111e0648) which was used to clean the dataset.*\n",
        "\n",
        "\n"
      ]
    },
    {
      "cell_type": "code",
      "metadata": {
        "id": "kG613uNGJzsJ"
      },
      "source": [
        "\n",
        "!wget https://github.com/shubham0204/Dataset_Archives/blob/master/face_landmarks_cleaned.zip?raw=true -O data.zip\n",
        "!unzip data.zip\n"
      ],
      "execution_count": null,
      "outputs": []
    },
    {
      "cell_type": "markdown",
      "metadata": {
        "id": "VRmx7M28jqSG"
      },
      "source": [
        "\n",
        "We'll normalize the images as well as the keypoints. The shape of our input image will be  `( 96 , 96 , 1 )` and the expected output will have a shape of `( 1 , 1 , 30 )`. The output is from a `Conv2D` layer rather than the `Dense` layer.\n"
      ]
    },
    {
      "cell_type": "code",
      "metadata": {
        "id": "SUvzB_pTMQgC"
      },
      "source": [
        "\n",
        "x_train = np.load( \"face_landmarks_cleaned/x_train.npy\" ) / 255\n",
        "y_train = np.load( \"face_landmarks_cleaned/y_train.npy\" ) / 96\n",
        "x_test = np.load( \"face_landmarks_cleaned/x_test.npy\" ) / 255\n",
        "y_test = np.load( \"face_landmarks_cleaned/y_test.npy\" ) / 96\n",
        "\n",
        "y_train = np.reshape( y_train , ( -1 , 1 , 1 , 30 ))\n",
        "y_test = np.reshape( y_test , ( -1 , 1 , 1 , 30 ))\n"
      ],
      "execution_count": null,
      "outputs": []
    },
    {
      "cell_type": "markdown",
      "metadata": {
        "id": "GQSjglxckPcO"
      },
      "source": [
        "\n",
        "## 3) The CNN Model\n",
        "\n",
        "We'll build a CNN model which `Conv2D` layers. We do not include `Dense` and `MaxPooling2D` layers here. The output will always be a number in the interval [ 0 , 1 ] so we can use sigmoid activation.\n"
      ]
    },
    {
      "cell_type": "code",
      "metadata": {
        "id": "HGkSJI41fHfg"
      },
      "source": [
        "\n",
        "model_layers = [ \n",
        "    tf.keras.layers.SeparableConv2D( 128 , input_shape=( 96 , 96 , 1 ) , kernel_size=( 5 , 5 ) , strides=1 ),\n",
        "    tf.keras.layers.BatchNormalization(),\n",
        "    tf.keras.layers.Activation( 'relu' ) ,\n",
        "    tf.keras.layers.SeparableConv2D( 128 , kernel_size=( 5 , 5 ) , strides=1 ),\n",
        "    tf.keras.layers.BatchNormalization(),\n",
        "    tf.keras.layers.Activation( 'relu' ) ,\n",
        "    \n",
        "    tf.keras.layers.SeparableConv2D( 128 , kernel_size=( 5 , 5 ) , strides=1 , activation='relu' ),\n",
        "    tf.keras.layers.SeparableConv2D( 128 , kernel_size=( 5 , 5 ) , strides=1 , activation='relu' ),\n",
        "\n",
        "    tf.keras.layers.SeparableConv2D( 128 , kernel_size=( 5 , 5 ) , strides=1 ),\n",
        "    tf.keras.layers.BatchNormalization(),\n",
        "    tf.keras.layers.Activation( 'relu' ) ,\n",
        "    tf.keras.layers.SeparableConv2D( 128 , kernel_size=( 5 , 5 ) , strides=1 ),\n",
        "    tf.keras.layers.BatchNormalization(),\n",
        "    tf.keras.layers.Activation( 'relu' ) ,\n",
        "\n",
        "    tf.keras.layers.SeparableConv2D( 128 , kernel_size=( 5 , 5 ) , strides=1 , activation='relu' ),\n",
        "    tf.keras.layers.SeparableConv2D( 128 , kernel_size=( 5 , 5 ) , strides=1 , activation='relu' ),\n",
        "\n",
        "    tf.keras.layers.SeparableConv2D( 128 , kernel_size=( 5 , 5 ) , strides=1 ),\n",
        "    tf.keras.layers.BatchNormalization(),\n",
        "    tf.keras.layers.Activation( 'relu' ) ,\n",
        "    tf.keras.layers.SeparableConv2D( 128 , kernel_size=( 5 , 5 ) , strides=1 ),\n",
        "    tf.keras.layers.BatchNormalization(),\n",
        "    tf.keras.layers.Activation( 'relu' ) ,\n",
        "    \n",
        "    tf.keras.layers.SeparableConv2D( 64 , kernel_size=( 5 , 5 ) , strides=1 , activation='relu' ),\n",
        "    tf.keras.layers.SeparableConv2D( 64 , kernel_size=( 5 , 5 ) , strides=1 , activation='relu' ),\n",
        "\n",
        "    tf.keras.layers.SeparableConv2D( 64 , kernel_size=( 5 , 5 ) , strides=1),\n",
        "    tf.keras.layers.BatchNormalization(),\n",
        "    tf.keras.layers.Activation( 'relu' ) ,\n",
        "    tf.keras.layers.SeparableConv2D( 64 , kernel_size=( 5 , 5 ) , strides=1),\n",
        "    tf.keras.layers.BatchNormalization(),\n",
        "    tf.keras.layers.Activation( 'relu' ) ,\n",
        "\n",
        "    tf.keras.layers.SeparableConv2D( 64 , kernel_size=( 3 , 3 ) , strides=1 , activation='relu' ),\n",
        "    tf.keras.layers.SeparableConv2D( 64 , kernel_size=( 3 , 3 ) , strides=1 , activation='relu' ),\n",
        "\n",
        "    tf.keras.layers.SeparableConv2D( 64 , kernel_size=( 3 , 3 ) , strides=1 , activation='relu' ),\n",
        "    tf.keras.layers.SeparableConv2D( 64 , kernel_size=( 3 , 3 ) , strides=1 , activation='relu' ),\n",
        "\n",
        "    tf.keras.layers.SeparableConv2D( 64 , kernel_size=( 3 , 3 ) , strides=1 , activation='relu' ),\n",
        "    tf.keras.layers.SeparableConv2D( 64 , kernel_size=( 3 , 3 ) , strides=1 , activation='relu' ),\n",
        "\n",
        "    tf.keras.layers.SeparableConv2D( 32 , kernel_size=( 3 , 3 ) , strides=1 , activation='relu' ),\n",
        "    tf.keras.layers.SeparableConv2D( 32 , kernel_size=( 3 , 3 ) , strides=1 , activation='relu' ),\n",
        "\n",
        "    tf.keras.layers.SeparableConv2D( 32 , kernel_size=( 3 , 3 ) , strides=1 , activation='relu' ),\n",
        "    tf.keras.layers.SeparableConv2D( 32 , kernel_size=( 3 , 3 ) , strides=1 , activation='relu' ),\n",
        "\n",
        "    tf.keras.layers.SeparableConv2D( 32 , kernel_size=( 3 , 3 ) , strides=1 , activation='relu' ),\n",
        "    tf.keras.layers.SeparableConv2D( 32 , kernel_size=( 3 , 3 ) , strides=1 , activation='relu' ),\n",
        "\n",
        "    tf.keras.layers.SeparableConv2D( 32 , kernel_size=( 3 , 3 ) , strides=1 , activation='relu' ),\n",
        "    tf.keras.layers.SeparableConv2D( 32 , kernel_size=( 3 , 3 ) , strides=1 , activation='relu' ),\n",
        "\n",
        "    tf.keras.layers.SeparableConv2D( 32 , kernel_size=( 3 , 3 ) , strides=1 , activation='relu' ),\n",
        "    tf.keras.layers.SeparableConv2D( 32 , kernel_size=( 3 , 3 ) , strides=1 , activation='relu' ),\n",
        "    \n",
        "    tf.keras.layers.SeparableConv2D( 32 , kernel_size=( 3 , 3 ) , strides=1 , activation='relu' ),\n",
        "    tf.keras.layers.SeparableConv2D( 32 , kernel_size=( 2 , 2 ) , strides=1 , activation='relu' ),\n",
        "\n",
        "    tf.keras.layers.SeparableConv2D( 30 , kernel_size=( 2 , 2 ) , strides=1 , activation='relu' ),\n",
        "    tf.keras.layers.SeparableConv2D( 30 , kernel_size=( 2 , 2 ) , strides=1 , activation='relu' ),\n",
        "    tf.keras.layers.SeparableConv2D( 30 , kernel_size=( 2 , 2 ) , strides=1 , activation='relu' ),\n",
        "    tf.keras.layers.SeparableConv2D( 30 , kernel_size=( 2 , 2 ) , strides=1 , activation='sigmoid' ),\n",
        "]\n",
        "model = tf.keras.Sequential( model_layers )\n",
        "model.compile( loss=tf.keras.losses.mean_squared_error , optimizer=tf.keras.optimizers.Adam( lr=0.0001 ) , metrics=[ 'mse' ] )\n",
        "model.summary()\n"
      ],
      "execution_count": null,
      "outputs": []
    },
    {
      "cell_type": "markdown",
      "metadata": {
        "id": "BQwFVM-SlQV-"
      },
      "source": [
        "\n",
        "## 4) Training the Model\n",
        "\n",
        "We'll train the model for 150 epochs with a batch of 50.\n"
      ]
    },
    {
      "cell_type": "code",
      "metadata": {
        "id": "UkZRWOph7n5a"
      },
      "source": [
        "\n",
        "model.fit( x_train , y_train , epochs=25 , batch_size=50 , validation_data=( x_test , y_test ) )\n"
      ],
      "execution_count": null,
      "outputs": []
    },
    {
      "cell_type": "markdown",
      "metadata": {
        "id": "xfigqcz1BqlA"
      },
      "source": [
        "\n",
        "## 5) Generate keypoints for images\n",
        "\n",
        "We will generate keypoints for 15 images from our test dataset. These points are then plotted on the image.\n"
      ]
    },
    {
      "cell_type": "code",
      "metadata": {
        "id": "IsWsGrm8BvgN"
      },
      "source": [
        "\n",
        "import matplotlib.pyplot as plt\n",
        "\n",
        "fig = plt.figure(figsize=( 50 , 50 ))\n",
        "\n",
        "for i in range( 1 , 6 ):\n",
        "    sample_image = np.reshape( x_test[i] * 255  , ( 96 , 96 ) ).astype( np.uint8 )\n",
        "    pred = model.predict( x_test[ i : i +1  ] ) * 96\n",
        "    pred = pred.astype( np.int32 )\n",
        "    pred = np.reshape( pred[0 , 0 , 0 ] , ( 15 , 2 ) )\n",
        "    fig.add_subplot( 1 , 10 , i )\n",
        "    plt.imshow( sample_image.T , cmap='gray' )\n",
        "    plt.scatter( pred[ : , 0 ] , pred[ : , 1 ] , c='yellow' )\n",
        "    \n",
        "plt.show()\n"
      ],
      "execution_count": null,
      "outputs": []
    },
    {
      "cell_type": "markdown",
      "metadata": {
        "id": "BUO15xOkmjrQ"
      },
      "source": [
        "\n",
        "## 6) Take a Picture and Predict landmarks for it ( Just for Fun! )\n",
        "\n",
        "We'll use this Colab snippet to take a picture from a webcam in your PC. Run the cell below first. See the [reference notebook](https://colab.research.google.com/notebooks/snippets/advanced_outputs.ipynb#scrollTo=2viqYx97hPMi).\n"
      ]
    },
    {
      "cell_type": "code",
      "metadata": {
        "id": "KIAb6fn7lYPn"
      },
      "source": [
        "\n",
        "from IPython.display import display, Javascript\n",
        "from google.colab.output import eval_js\n",
        "from base64 import b64decode\n",
        "\n",
        "def take_photo(filename='photo.jpg', quality=0.8):\n",
        "  js = Javascript('''\n",
        "    async function takePhoto(quality) {\n",
        "      const div = document.createElement('div');\n",
        "      const capture = document.createElement('button');\n",
        "      capture.textContent = 'Capture';\n",
        "      div.appendChild(capture);\n",
        "\n",
        "      const video = document.createElement('video');\n",
        "      video.style.display = 'block';\n",
        "      const stream = await navigator.mediaDevices.getUserMedia({video: true});\n",
        "\n",
        "      document.body.appendChild(div);\n",
        "      div.appendChild(video);\n",
        "      video.srcObject = stream;\n",
        "      await video.play();\n",
        "\n",
        "      // Resize the output to fit the video element.\n",
        "      google.colab.output.setIframeHeight(document.documentElement.scrollHeight, true);\n",
        "\n",
        "      // Wait for Capture to be clicked.\n",
        "      await new Promise((resolve) => capture.onclick = resolve);\n",
        "\n",
        "      const canvas = document.createElement('canvas');\n",
        "      canvas.width = video.videoWidth;\n",
        "      canvas.height = video.videoHeight;\n",
        "      canvas.getContext('2d').drawImage(video, 0, 0);\n",
        "      stream.getVideoTracks()[0].stop();\n",
        "      div.remove();\n",
        "      return canvas.toDataURL('image/jpeg', quality);\n",
        "    }\n",
        "    ''')\n",
        "  display(js)\n",
        "  data = eval_js('takePhoto({})'.format(quality))\n",
        "  binary = b64decode(data.split(',')[1])\n",
        "  with open(filename, 'wb') as f:\n",
        "    f.write(binary)\n",
        "  return filename\n"
      ],
      "execution_count": null,
      "outputs": []
    },
    {
      "cell_type": "markdown",
      "metadata": {
        "id": "j6uVinr4nGdW"
      },
      "source": [
        "\n",
        "\n",
        "Run this code cell. You'll see a camera preview and a \"*Capture*\" button. Once you take a picture, it will be saved as `photo.jpg`.\n"
      ]
    },
    {
      "cell_type": "code",
      "metadata": {
        "id": "Dx3inKUElhN6"
      },
      "source": [
        "\n",
        "from IPython.display import Image\n",
        "try:\n",
        "  filename = take_photo()\n",
        "  print('Saved to {}'.format(filename))\n",
        "  \n",
        "  # Show the image which was just taken.\n",
        "  display(Image(filename))\n",
        "except Exception as err:\n",
        "  # Errors will be thrown if the user does not have a webcam or if they do not\n",
        "  # grant the page permission to access it.\n",
        "  print(str(err))\n"
      ],
      "execution_count": null,
      "outputs": []
    },
    {
      "cell_type": "markdown",
      "metadata": {
        "id": "76VOM6UOnTAd"
      },
      "source": [
        "\n",
        "We'll read the `photo.jpg`, resize it `( 96 , 96 )` and feed it to our model. The predictions will then be plotted on the image.\n"
      ]
    },
    {
      "cell_type": "code",
      "metadata": {
        "id": "rmTsW_WZi0q9"
      },
      "source": [
        "\n",
        "from PIL import Image\n",
        "import matplotlib.pyplot as plt\n",
        "\n",
        "image = Image.open( \"photo.jpg\").convert('L').resize( ( 96 , 96 ) ).rotate( 90 )\n",
        "image_arr = np.asarray( image ) / 255\n",
        "\n",
        "pred = model.predict( np.array( [ image_arr.reshape( 96 , 96 , 1 ) ] ) ) * 96\n",
        "pred = pred.astype( np.int32 )\n",
        "pred = np.reshape( pred[0 , 0 , 0 ] , ( 15 , 2 ) )\n",
        "\n",
        "plt.imshow( image_arr.T , cmap='gray' )\n",
        "plt.scatter( pred[ : , 0 ] , pred[ : , 1 ] , c='yellow' )\n",
        "plt.show()\n"
      ],
      "execution_count": null,
      "outputs": []
    },
    {
      "cell_type": "markdown",
      "metadata": {
        "id": "y33pmtBfEqo5"
      },
      "source": [
        "You may convert the Keras model to a TensorFlow Lite model."
      ]
    },
    {
      "cell_type": "code",
      "metadata": {
        "id": "jXYlDomWEvzH"
      },
      "source": [
        "\n",
        "converter = tf.lite.TFLiteConverter.from_keras_model( model )\n",
        "converter.optimizations = [tf.lite.Optimize.DEFAULT]\n",
        "x_test = x_test.astype( np.float32 )\n",
        "ds = tf.data.Dataset.from_tensor_slices(( x_test )).batch(1)\n",
        "def representative_data_gen():\n",
        "  for input_value in ds.take(100):\n",
        "    yield [input_value]\n",
        "converter.representative_dataset = representative_data_gen\n",
        "converter.target_spec.supported_ops = [tf.lite.OpsSet.TFLITE_BUILTINS_INT8]\n",
        "converter.inference_input_type = tf.uint8\n",
        "converter.inference_output_type = tf.uint8\n",
        "\n",
        "buffer = converter.convert()\n",
        "open( 'model_sep.tflite' , 'wb' ).write( buffer )\n",
        "\n",
        "interpreter = tf.lite.Interpreter(model_path=\"model.tflite\")\n",
        "interpreter.allocate_tensors()\n",
        "\n",
        "# Print input shape and type\n",
        "print(interpreter.get_input_details()[0]['shape'])\n",
        "print(interpreter.get_input_details()[0]['dtype'])\n",
        "\n",
        "# Print output shape and type\n",
        "print(interpreter.get_output_details()[0]['shape'])\n",
        "print(interpreter.get_output_details()[0]['dtype'])\n"
      ],
      "execution_count": null,
      "outputs": []
    }
  ]
}