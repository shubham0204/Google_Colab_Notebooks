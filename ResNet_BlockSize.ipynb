{
  "nbformat": 4,
  "nbformat_minor": 0,
  "metadata": {
    "colab": {
      "name": "ResNet_BlockSize.ipynb",
      "private_outputs": true,
      "provenance": [],
      "collapsed_sections": [],
      "toc_visible": true
    },
    "kernelspec": {
      "name": "python3",
      "display_name": "Python 3"
    },
    "language_info": {
      "name": "python"
    }
  },
  "cells": [
    {
      "cell_type": "code",
      "metadata": {
        "id": "O1Mge6mKkuwj"
      },
      "source": [
        "\n",
        "from PIL import Image\n",
        "import matplotlib.pyplot as plt\n",
        "import tensorflow as tf\n",
        "import numpy as np\n"
      ],
      "execution_count": null,
      "outputs": []
    },
    {
      "cell_type": "code",
      "metadata": {
        "id": "zxeqJNx3l2Zo"
      },
      "source": [
        "\n",
        "input_size = 256\n",
        "block_sizes = [  0 , 2 , 3 , 5 ]\n",
        "output_dims = 8\n",
        "image = np.asarray( Image.open( '366.jpg' ).resize( ( input_size , input_size ) ) )\n",
        "image = np.expand_dims( image , 0 ) / 255\n",
        "fig = plt.figure( figsize=( 15 , 20 ) )\n",
        "\n",
        "def conv2D( x , units ):\n",
        "    return tf.keras.layers.Conv2D( units , kernel_size=3 , kernel_initializer='he_uniform' , use_bias=False , activation='relu' , padding='same' )( x )\n",
        "\n",
        "def read_image( path ):\n",
        "    img = Image.open( path ).resize( ( input_size , input_size ) )\n",
        "    return np.asarray( img )\n",
        "\n",
        "def visualize_featuremap( feature_map ):\n",
        "    feature_map -= feature_map.mean()\n",
        "    feature_map /= feature_map.std()\n",
        "    feature_map *=  64\n",
        "    feature_map += 128\n",
        "    feature_map = np.clip( feature_map , 0, 255 ).astype('uint8')\n",
        "    return feature_map\n",
        "\n",
        "init_conv_layer = tf.keras.layers.Conv2D( output_dims , kernel_size=3 , kernel_initializer='he_uniform' , use_bias=False , activation='relu' , padding='same' )\n",
        "\n",
        "def make_model( block_size , skip_connections=True ):\n",
        "    inputs = tf.keras.layers.Input( shape=( input_size , input_size , 3 ) )\n",
        "    x = init_conv_layer( inputs )\n",
        "    skip = x\n",
        "    \n",
        "    if skip_connections:\n",
        "        for _ in range( block_size ):\n",
        "            x = conv2D( x , output_dims )\n",
        "            outputs = tf.keras.layers.Add()([ x , skip ])\n",
        "    else:\n",
        "        outputs = x\n",
        "  \n",
        "    model = tf.keras.models.Model( inputs , outputs )\n",
        "    return model\n",
        "\n",
        "i = 1\n",
        "for size in block_sizes:\n",
        "    model = make_model( size , size != 0 )\n",
        "    feature_map = model( image )\n",
        "    feature_map = feature_map.numpy()\n",
        "    print( 'Mean {} and StdDev {} with block size {}'.format( feature_map.mean() , feature_map.std() , size ) )\n",
        "    #print( 'Min {} and max {} with block size {}'.format( feature_map.min() , feature_map.max() , size ) )\n",
        "    for j in range( output_dims ):\n",
        "        fm_i = feature_map[ 0 , : , : , j ]\n",
        "        fm_i = visualize_featuremap( fm_i )\n",
        "        fig.add_subplot( len( block_sizes ) , output_dims , i )\n",
        "        plt.imshow( fm_i )\n",
        "        plt.title( 'Block size {}'.format( size ) )\n",
        "        i += 1\n",
        "\n",
        "plt.show()\n",
        "\n"
      ],
      "execution_count": null,
      "outputs": []
    }
  ]
}